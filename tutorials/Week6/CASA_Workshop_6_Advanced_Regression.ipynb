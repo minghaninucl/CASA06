{
 "cells": [
  {
   "cell_type": "markdown",
   "metadata": {},
   "source": [
    "<div style=\"float:left\">\n",
    "    <h1 style=\"width:600px\">Workshop 6: Advanced Regression</h1>\n",
    "    <h3 style=\"width:600px\">CASA0006: Data Science for Spatial Systems</h3>\n",
    "    <h3 style=\"width:600px\">CASA0009: Spatial Data Capture, Storage and Analysis</h3>\n",
    "    <h3 style=\"width:600px\">Author: Huanfa Chen</h3>\n",
    "</div>\n",
    "<div style=\"float:right\"><img width=\"100\" src=\"https://github.com/jreades/i2p/raw/master/img/casa_logo.jpg\" /></div>"
   ]
  },
  {
   "cell_type": "markdown",
   "metadata": {},
   "source": [
    "In this week's tutorial, we will be working through some examples of how we can use regression methods to understand the relationship between the bike rental data and ambient and seasonal variables.\n",
    "\n",
    "This week we will work with Python, using a new module [**statsmodels**](https://www.statsmodels.org/stable/index.html). **statsmodels** is a Python module that provides classes and functions for the estimation of many different statistical models, as well as for conducting statistical tests, and statistical data exploration. It provides a nice summary function for linear regression.\n",
    "\n",
    "This workshop will cover the application of **linear regression**, **VIF**, **Lasso**, **regression tree**, and **random forest**. This sounds like a lot in one workshop, but you'll begin to get a sense of how they differ after comparing the results.\n",
    "\n",
    "Let's first import the basic libraries we will need. \n",
    "\n",
    "* `pandas` for data import and handling;\n",
    "* `matplotlib` for graphing non-Pandas arrays;\n",
    "* `numpy` for maths tools;\n",
    "* `statsmodels` for linear regression and VIF.\n",
    "\n",
    "**Run the script below to get started.**"
   ]
  },
  {
   "cell_type": "code",
   "execution_count": 1,
   "metadata": {},
   "outputs": [],
   "source": [
    "import numpy as np\n",
    "import matplotlib.pyplot as plt\n",
    "import pandas as pd\n",
    "from sklearn.linear_model import LinearRegression\n",
    "import statsmodels.api as sm\n",
    "\n",
    "pd.set_option('display.max_rows', 300) # specifies number of rows to show\n",
    "pd.options.display.float_format = '{:40,.4f}'.format # specifies default number format to 4 decimal places\n",
    "plt.style.use('ggplot') # specifies that graphs should use ggplot styling\n",
    "%matplotlib inline"
   ]
  },
  {
   "cell_type": "markdown",
   "metadata": {},
   "source": [
    "### Data Interrogation 数据整合"
   ]
  },
  {
   "cell_type": "markdown",
   "metadata": {},
   "source": [
    "The dataset you will use relates to daily counts of rented bicycles from the bicycle rental company Capital-Bikeshare in Washington D.C., along with weather and seasonal information. The goal here is to predict how many bikes will be rented depending on the weather and the day. The original data can be downloaded from the [UCI Machine Learning Repository](http://archive.ics.uci.edu/ml/datasets/Bike+Sharing+Dataset).\n",
    "\n",
    "The dataset used in this workshop has been slightly processed by Christoph Molnar using the processing R-script from this [Github repository](https://github.com/christophM/interpretable-ml-book/blob/master/R/get-bike-sharing-dataset.R). Here, the dataset is provided as a csv file on Moodle.\n",
    "\n",
    "Here is a list of the variables in the dataset:\n",
    "\n",
    "- Count of bicycles including both casual and registered users. The count is used as the response in the regression task.\n",
    "- Indicator of the season, either spring, summer, fall or winter.\n",
    "- Indicator whether the day was a holiday or not.\n",
    "- The year, either 2011 or 2012.\n",
    "- Number of days since the 01.01.2011 (the first day in the dataset). This predictor was introduced to take account of the trend over time.\n",
    "- Indicator whether the day was a working day or weekend.\n",
    "- The weather situation on that day. One of:\n",
    " - **'GOOD'**: including clear, few clouds, partly cloudy, cloudy\n",
    " - **'MISTY'**: including mist + clouds, mist + broken clouds, mist + few clouds, mist\n",
    " - **'RAIN/SNOW/STORM'**: including light snow, light rain + thunderstorm + scattered clouds, light rain + scattered clouds, heavy rain + ice pallets + thunderstorm + mist, snow + mist\n",
    "- Temperature in degrees Celsius.\n",
    "- Relative humidity in percent (0 to 100).\n",
    "- Wind speed in km/h.\n",
    "\n",
    "Based on what you know from using Pandas over the last few weeks, import the Boston housing dataset as a Pandas dataframe (call it `bike_rental`), inspect the data, calculate summary statistics on all attributes, and general simple plots of pairs of attributes."
   ]
  },
  {
   "cell_type": "code",
   "execution_count": 2,
   "metadata": {},
   "outputs": [],
   "source": [
    "bike_rental = pd.read_csv('https://raw.githubusercontent.com/huanfachen/Spatial_Data_Science/main/Dataset/daily_count_bike_rental.csv')"
   ]
  },
  {
   "cell_type": "code",
   "execution_count": 3,
   "metadata": {},
   "outputs": [
    {
     "name": "stdout",
     "output_type": "stream",
     "text": [
      "<class 'pandas.core.frame.DataFrame'>\n",
      "RangeIndex: 731 entries, 0 to 730\n",
      "Data columns (total 12 columns):\n",
      " #   Column           Non-Null Count  Dtype  \n",
      "---  ------           --------------  -----  \n",
      " 0   cnt              731 non-null    int64  \n",
      " 1   season           731 non-null    object \n",
      " 2   yr               731 non-null    int64  \n",
      " 3   mnth             731 non-null    object \n",
      " 4   holiday          731 non-null    object \n",
      " 5   weekday          731 non-null    object \n",
      " 6   workingday       731 non-null    object \n",
      " 7   weathersit       731 non-null    object \n",
      " 8   temp             731 non-null    float64\n",
      " 9   hum              731 non-null    float64\n",
      " 10  windspeed        731 non-null    float64\n",
      " 11  days_since_2011  731 non-null    int64  \n",
      "dtypes: float64(3), int64(3), object(6)\n",
      "memory usage: 68.7+ KB\n"
     ]
    }
   ],
   "source": [
    "bike_rental.info()"
   ]
  },
  {
   "cell_type": "code",
   "execution_count": 4,
   "metadata": {},
   "outputs": [
    {
     "data": {
      "text/html": [
       "<div>\n",
       "<style scoped>\n",
       "    .dataframe tbody tr th:only-of-type {\n",
       "        vertical-align: middle;\n",
       "    }\n",
       "\n",
       "    .dataframe tbody tr th {\n",
       "        vertical-align: top;\n",
       "    }\n",
       "\n",
       "    .dataframe thead th {\n",
       "        text-align: right;\n",
       "    }\n",
       "</style>\n",
       "<table border=\"1\" class=\"dataframe\">\n",
       "  <thead>\n",
       "    <tr style=\"text-align: right;\">\n",
       "      <th></th>\n",
       "      <th>cnt</th>\n",
       "      <th>season</th>\n",
       "      <th>yr</th>\n",
       "      <th>mnth</th>\n",
       "      <th>holiday</th>\n",
       "      <th>weekday</th>\n",
       "      <th>workingday</th>\n",
       "      <th>weathersit</th>\n",
       "      <th>temp</th>\n",
       "      <th>hum</th>\n",
       "      <th>windspeed</th>\n",
       "      <th>days_since_2011</th>\n",
       "    </tr>\n",
       "  </thead>\n",
       "  <tbody>\n",
       "    <tr>\n",
       "      <th>0</th>\n",
       "      <td>985</td>\n",
       "      <td>SPRING</td>\n",
       "      <td>2011</td>\n",
       "      <td>JAN</td>\n",
       "      <td>NO HOLIDAY</td>\n",
       "      <td>SAT</td>\n",
       "      <td>NO WORKING DAY</td>\n",
       "      <td>MISTY</td>\n",
       "      <td>8.1758</td>\n",
       "      <td>80.5833</td>\n",
       "      <td>10.7499</td>\n",
       "      <td>0</td>\n",
       "    </tr>\n",
       "    <tr>\n",
       "      <th>1</th>\n",
       "      <td>801</td>\n",
       "      <td>SPRING</td>\n",
       "      <td>2011</td>\n",
       "      <td>JAN</td>\n",
       "      <td>NO HOLIDAY</td>\n",
       "      <td>SUN</td>\n",
       "      <td>NO WORKING DAY</td>\n",
       "      <td>MISTY</td>\n",
       "      <td>9.0835</td>\n",
       "      <td>69.6087</td>\n",
       "      <td>16.6521</td>\n",
       "      <td>1</td>\n",
       "    </tr>\n",
       "    <tr>\n",
       "      <th>2</th>\n",
       "      <td>1349</td>\n",
       "      <td>SPRING</td>\n",
       "      <td>2011</td>\n",
       "      <td>JAN</td>\n",
       "      <td>NO HOLIDAY</td>\n",
       "      <td>MON</td>\n",
       "      <td>WORKING DAY</td>\n",
       "      <td>GOOD</td>\n",
       "      <td>1.2291</td>\n",
       "      <td>43.7273</td>\n",
       "      <td>16.6367</td>\n",
       "      <td>2</td>\n",
       "    </tr>\n",
       "    <tr>\n",
       "      <th>3</th>\n",
       "      <td>1562</td>\n",
       "      <td>SPRING</td>\n",
       "      <td>2011</td>\n",
       "      <td>JAN</td>\n",
       "      <td>NO HOLIDAY</td>\n",
       "      <td>TUE</td>\n",
       "      <td>WORKING DAY</td>\n",
       "      <td>GOOD</td>\n",
       "      <td>1.4000</td>\n",
       "      <td>59.0435</td>\n",
       "      <td>10.7398</td>\n",
       "      <td>3</td>\n",
       "    </tr>\n",
       "    <tr>\n",
       "      <th>4</th>\n",
       "      <td>1600</td>\n",
       "      <td>SPRING</td>\n",
       "      <td>2011</td>\n",
       "      <td>JAN</td>\n",
       "      <td>NO HOLIDAY</td>\n",
       "      <td>WED</td>\n",
       "      <td>WORKING DAY</td>\n",
       "      <td>GOOD</td>\n",
       "      <td>2.6670</td>\n",
       "      <td>43.6957</td>\n",
       "      <td>12.5223</td>\n",
       "      <td>4</td>\n",
       "    </tr>\n",
       "  </tbody>\n",
       "</table>\n",
       "</div>"
      ],
      "text/plain": [
       "    cnt  season    yr mnth     holiday weekday      workingday weathersit  \\\n",
       "0   985  SPRING  2011  JAN  NO HOLIDAY     SAT  NO WORKING DAY      MISTY   \n",
       "1   801  SPRING  2011  JAN  NO HOLIDAY     SUN  NO WORKING DAY      MISTY   \n",
       "2  1349  SPRING  2011  JAN  NO HOLIDAY     MON     WORKING DAY       GOOD   \n",
       "3  1562  SPRING  2011  JAN  NO HOLIDAY     TUE     WORKING DAY       GOOD   \n",
       "4  1600  SPRING  2011  JAN  NO HOLIDAY     WED     WORKING DAY       GOOD   \n",
       "\n",
       "                                      temp  \\\n",
       "0                                   8.1758   \n",
       "1                                   9.0835   \n",
       "2                                   1.2291   \n",
       "3                                   1.4000   \n",
       "4                                   2.6670   \n",
       "\n",
       "                                       hum  \\\n",
       "0                                  80.5833   \n",
       "1                                  69.6087   \n",
       "2                                  43.7273   \n",
       "3                                  59.0435   \n",
       "4                                  43.6957   \n",
       "\n",
       "                                 windspeed  days_since_2011  \n",
       "0                                  10.7499                0  \n",
       "1                                  16.6521                1  \n",
       "2                                  16.6367                2  \n",
       "3                                  10.7398                3  \n",
       "4                                  12.5223                4  "
      ]
     },
     "execution_count": 4,
     "metadata": {},
     "output_type": "execute_result"
    }
   ],
   "source": [
    "bike_rental.head()"
   ]
  },
  {
   "cell_type": "markdown",
   "metadata": {},
   "source": [
    "In `bike_rental`, there are two data types: categorical (aka `object`), and numerical (including `int64` and `float64`). \n",
    "\n",
    "Before undertaking regression, several steps should be done, which include:\n",
    "- Converting categorical variables into dummy variables\n",
    "- Dealing with multicollinearity (and removing some variables if necessary)"
   ]
  },
  {
   "cell_type": "markdown",
   "metadata": {},
   "source": [
    "### Converting categorical variables\n",
    "First, we need to convert categorical variables into dummy/indicator variables, using `One-Hot Encoding`."
   ]
  },
  {
   "cell_type": "code",
   "execution_count": 5,
   "metadata": {},
   "outputs": [],
   "source": [
    "bike_rentail_numeric = pd.get_dummies(bike_rental)"
   ]
  },
  {
   "cell_type": "code",
   "execution_count": 6,
   "metadata": {},
   "outputs": [
    {
     "name": "stdout",
     "output_type": "stream",
     "text": [
      "<class 'pandas.core.frame.DataFrame'>\n",
      "RangeIndex: 731 entries, 0 to 730\n",
      "Data columns (total 36 columns):\n",
      " #   Column                      Non-Null Count  Dtype  \n",
      "---  ------                      --------------  -----  \n",
      " 0   cnt                         731 non-null    int64  \n",
      " 1   yr                          731 non-null    int64  \n",
      " 2   temp                        731 non-null    float64\n",
      " 3   hum                         731 non-null    float64\n",
      " 4   windspeed                   731 non-null    float64\n",
      " 5   days_since_2011             731 non-null    int64  \n",
      " 6   season_FALL                 731 non-null    uint8  \n",
      " 7   season_SPRING               731 non-null    uint8  \n",
      " 8   season_SUMMER               731 non-null    uint8  \n",
      " 9   season_WINTER               731 non-null    uint8  \n",
      " 10  mnth_APR                    731 non-null    uint8  \n",
      " 11  mnth_AUG                    731 non-null    uint8  \n",
      " 12  mnth_DEZ                    731 non-null    uint8  \n",
      " 13  mnth_FEB                    731 non-null    uint8  \n",
      " 14  mnth_JAN                    731 non-null    uint8  \n",
      " 15  mnth_JUL                    731 non-null    uint8  \n",
      " 16  mnth_JUN                    731 non-null    uint8  \n",
      " 17  mnth_MAR                    731 non-null    uint8  \n",
      " 18  mnth_MAY                    731 non-null    uint8  \n",
      " 19  mnth_NOV                    731 non-null    uint8  \n",
      " 20  mnth_OKT                    731 non-null    uint8  \n",
      " 21  mnth_SEP                    731 non-null    uint8  \n",
      " 22  holiday_HOLIDAY             731 non-null    uint8  \n",
      " 23  holiday_NO HOLIDAY          731 non-null    uint8  \n",
      " 24  weekday_FRI                 731 non-null    uint8  \n",
      " 25  weekday_MON                 731 non-null    uint8  \n",
      " 26  weekday_SAT                 731 non-null    uint8  \n",
      " 27  weekday_SUN                 731 non-null    uint8  \n",
      " 28  weekday_THU                 731 non-null    uint8  \n",
      " 29  weekday_TUE                 731 non-null    uint8  \n",
      " 30  weekday_WED                 731 non-null    uint8  \n",
      " 31  workingday_NO WORKING DAY   731 non-null    uint8  \n",
      " 32  workingday_WORKING DAY      731 non-null    uint8  \n",
      " 33  weathersit_GOOD             731 non-null    uint8  \n",
      " 34  weathersit_MISTY            731 non-null    uint8  \n",
      " 35  weathersit_RAIN/SNOW/STORM  731 non-null    uint8  \n",
      "dtypes: float64(3), int64(3), uint8(30)\n",
      "memory usage: 55.8 KB\n"
     ]
    }
   ],
   "source": [
    "# check out the new dataFrame\n",
    "bike_rentail_numeric.info()"
   ]
  },
  {
   "cell_type": "markdown",
   "metadata": {},
   "source": [
    "Remember that, a cateogircal variable of K categories or levels, usually enters a regression as a sequence of K-1 dummy variables. The level that is left out becomes the reference level, and this is important for interpreting the regression model.\n",
    "\n",
    "Here we manually choose the reference level for each categorical variable and exclude them from the DataFrame. You can change the reference levels if you want."
   ]
  },
  {
   "cell_type": "code",
   "execution_count": 7,
   "metadata": {},
   "outputs": [
    {
     "name": "stdout",
     "output_type": "stream",
     "text": [
      "<class 'pandas.core.frame.DataFrame'>\n",
      "RangeIndex: 731 entries, 0 to 730\n",
      "Data columns (total 30 columns):\n",
      " #   Column                      Non-Null Count  Dtype  \n",
      "---  ------                      --------------  -----  \n",
      " 0   cnt                         731 non-null    int64  \n",
      " 1   yr                          731 non-null    int64  \n",
      " 2   temp                        731 non-null    float64\n",
      " 3   hum                         731 non-null    float64\n",
      " 4   windspeed                   731 non-null    float64\n",
      " 5   days_since_2011             731 non-null    int64  \n",
      " 6   season_FALL                 731 non-null    uint8  \n",
      " 7   season_SUMMER               731 non-null    uint8  \n",
      " 8   season_WINTER               731 non-null    uint8  \n",
      " 9   mnth_APR                    731 non-null    uint8  \n",
      " 10  mnth_AUG                    731 non-null    uint8  \n",
      " 11  mnth_DEZ                    731 non-null    uint8  \n",
      " 12  mnth_FEB                    731 non-null    uint8  \n",
      " 13  mnth_JUL                    731 non-null    uint8  \n",
      " 14  mnth_JUN                    731 non-null    uint8  \n",
      " 15  mnth_MAR                    731 non-null    uint8  \n",
      " 16  mnth_MAY                    731 non-null    uint8  \n",
      " 17  mnth_NOV                    731 non-null    uint8  \n",
      " 18  mnth_OKT                    731 non-null    uint8  \n",
      " 19  mnth_SEP                    731 non-null    uint8  \n",
      " 20  holiday_HOLIDAY             731 non-null    uint8  \n",
      " 21  weekday_FRI                 731 non-null    uint8  \n",
      " 22  weekday_SAT                 731 non-null    uint8  \n",
      " 23  weekday_SUN                 731 non-null    uint8  \n",
      " 24  weekday_THU                 731 non-null    uint8  \n",
      " 25  weekday_TUE                 731 non-null    uint8  \n",
      " 26  weekday_WED                 731 non-null    uint8  \n",
      " 27  workingday_NO WORKING DAY   731 non-null    uint8  \n",
      " 28  weathersit_MISTY            731 non-null    uint8  \n",
      " 29  weathersit_RAIN/SNOW/STORM  731 non-null    uint8  \n",
      "dtypes: float64(3), int64(3), uint8(24)\n",
      "memory usage: 51.5 KB\n"
     ]
    }
   ],
   "source": [
    "bike_rental_final = bike_rentail_numeric.drop(['season_SPRING', 'mnth_JAN', 'holiday_NO HOLIDAY', 'weekday_MON', 'workingday_WORKING DAY', 'weathersit_GOOD'], axis=1)\n",
    "\n",
    "# double check the result\n",
    "bike_rental_final.info()"
   ]
  },
  {
   "cell_type": "markdown",
   "metadata": {},
   "source": [
    "### Dealing with multicollinearity\n",
    "\n",
    "In regression, `collinearity` is the problem when **two** variables are highly correlated and therefore contain similar information about the variance within the dataset. Colinearity among variables can be detected by creating a correlation matrix.\n",
    "\n",
    "On the other hand, `multicollinearity` emerges when three or more variables, which are highly correlated, are included in a model. It can emerge even when each pair of variables involved are not colinear. For example, think of the four dummy variables relating to seasons in the `bike_rental_numeric` dataset.  \n",
    "\n",
    "You can check the colinearity between attributes using a correlation matrix as below. Think of these two questions:\n",
    "\n",
    "- **What can you get from this plot? For example, which pair of variables are highly correlated, and can you explain it?**\n",
    "- **Can you use the correlation matrix to deal with multicolinearity, for example, by removing one of the two variables if their correlation is above 0.75?** (*Hint*: a short answer is NO)"
   ]
  },
  {
   "cell_type": "code",
   "execution_count": 8,
   "metadata": {},
   "outputs": [
    {
     "data": {
      "text/plain": [
       "Text(0.5, 1.0, 'Correlation Matrix')"
      ]
     },
     "execution_count": 8,
     "metadata": {},
     "output_type": "execute_result"
    },
    {
     "data": {
      "image/png": "[encoded data removed]",
      "text/plain": [
       "<Figure size 1368x1080 with 2 Axes>"
      ]
     },
     "metadata": {
      "needs_background": "light"
     },
     "output_type": "display_data"
    }
   ],
   "source": [
    "df = bike_rental_final\n",
    "plt.rcParams[\"axes.grid\"] = False\n",
    "f = plt.figure(figsize=(19, 15))\n",
    "plt.matshow(df.corr(), fignum=f.number)\n",
    "plt.xticks(range(df.shape[1]), df.columns, fontsize=14, rotation=45)\n",
    "plt.yticks(range(df.shape[1]), df.columns, fontsize=14)\n",
    "cb = plt.colorbar()\n",
    "cb.ax.tick_params(labelsize=14)\n",
    "plt.title('Correlation Matrix', fontsize=16)"
   ]
  },
  {
   "cell_type": "markdown",
   "metadata": {},
   "source": [
    "We will introduce two ways to deal with multicolinearity in linear regression: \n",
    "* **VIF**\n",
    "* **Lasso**"
   ]
  },
  {
   "cell_type": "markdown",
   "metadata": {},
   "source": [
    "#### VIF\n",
    "\n",
    "The `Variance Inflation Factor` (VIF) is a measure of multicolinearity among predictors within a multiple regression task. It is the quotient of the variance in a model with multiple predictors by the variance of a model with a single predictor. More explanation of the theory can be found [here](https://en.wikipedia.org/wiki/Variance_inflation_factor). \n",
    "\n",
    "Steps for using VIF to deal with multicolineartiy are:\n",
    "\n",
    "1. Initialise ```L``` as the list of independent variables. (*HINT*: the response variable is not needed here)\n",
    "2. Calculate the VIF for each variable in ```L```. (*HINT*: the order of computing VIF is irrelevant).\n",
    "3. If the highest VIF is larger than the threshold, remove the variable from the list ```L```.\n",
    "4. Repeat Step 2-3, until no VIF is larger than the threshold.\n",
    "5. Return ```L```.\n",
    "\n",
    "It is worth noting that there are some situations (at least three) in which a high VIF is not a problem and can be safely ignored. One such situation is when *The variables with high VIFs are indicator (dummy) variables that represent a categorical variable with three or more categories*. This because these dummy variables are likely to be correlated if the proportion of cases in the reference cateogry is small. \n",
    "\n",
    "If you want to know more about this topic, you can read [this blog](https://statisticalhorizons.com/multicollinearity).\n",
    "\n",
    "Below is an example of using VIF on the `bike_rental` dataset. Note that the `statsmodels` package is used."
   ]
  },
  {
   "cell_type": "code",
   "execution_count": 9,
   "metadata": {},
   "outputs": [],
   "source": [
    "# calculating VIF\n",
    "# This function is amended from: https://stackoverflow.com/a/51329496/4667568\n",
    "from statsmodels.stats.outliers_influence import variance_inflation_factor \n",
    "from statsmodels.tools.tools import add_constant\n",
    "\n",
    "def drop_column_using_vif_(df, list_var_not_to_remove, thresh=5):\n",
    "    '''\n",
    "    Calculates VIF each feature in a pandas dataframe, and repeatedly drop the columns with the highest VIF\n",
    "    A constant must be added to variance_inflation_factor or the results will be incorrect\n",
    "\n",
    "    :param df: the pandas dataframe containing only the predictor features, not the response variable\n",
    "    :param list_var_not_to_remove: the list of variables that should not be removed even though it has a high VIF. For example, dummy (or indicator) variables represent a categorical variable with three or more categories.\n",
    "    :param thresh: the max VIF value before the feature is removed from the dataframe\n",
    "    :return: dataframe with multicollinear features removed\n",
    "    '''\n",
    "    while True:\n",
    "        # adding a constatnt item to the data\n",
    "        df_with_const = add_constant(df)\n",
    "\n",
    "        vif_df = pd.Series([variance_inflation_factor(df_with_const.values, i) \n",
    "               for i in range(df_with_const.shape[1])], name= \"VIF\",\n",
    "              index=df_with_const.columns).to_frame()\n",
    "\n",
    "        # drop the const\n",
    "        vif_df = vif_df.drop('const').drop(list_var_not_to_remove)\n",
    "        \n",
    "        print('Max VIF:', vif_df.VIF.max())\n",
    "        \n",
    "        # if the largest VIF is above the thresh, remove a variable with the largest VIF\n",
    "        if vif_df.VIF.max() > thresh:\n",
    "            # If there are multiple variables with the maximum VIF, choose the first one\n",
    "            index_to_drop = vif_df.index[vif_df.VIF == vif_df.VIF.max()].tolist()[0]\n",
    "            print('Dropping: {}'.format(index_to_drop))\n",
    "            df = df.drop(columns = index_to_drop)\n",
    "        else:\n",
    "            # No VIF is above threshold. Exit the loop\n",
    "            break\n",
    "\n",
    "    return df"
   ]
  },
  {
   "cell_type": "code",
   "execution_count": 23,
   "metadata": {},
   "outputs": [
    {
     "name": "stderr",
     "output_type": "stream",
     "text": [
      "/Users/minghanwang/opt/anaconda3/envs/sds2021/lib/python3.9/site-packages/statsmodels/tsa/tsatools.py:142: FutureWarning: In a future version of pandas all arguments of concat except for the argument 'objs' will be keyword-only\n",
      "  x = pd.concat(x[::order], 1)\n",
      "/Users/minghanwang/opt/anaconda3/envs/sds2021/lib/python3.9/site-packages/statsmodels/stats/outliers_influence.py:193: RuntimeWarning: divide by zero encountered in double_scalars\n",
      "  vif = 1. / (1. - r_squared_i)\n"
     ]
    },
    {
     "name": "stdout",
     "output_type": "stream",
     "text": [
      "Max VIF: inf\n",
      "Dropping: holiday_HOLIDAY\n",
      "Max VIF: 581.9430735102303\n",
      "Dropping: days_since_2011\n",
      "Max VIF: 8.651490561143063\n",
      "Dropping: workingday_NO WORKING DAY\n",
      "Max VIF: 6.982402679702821\n",
      "Dropping: temp\n",
      "Max VIF: 1.9872613777421448\n",
      "The columns remaining after VIF selection are:\n",
      "Index(['yr', 'hum', 'windspeed', 'season_FALL', 'season_SUMMER',\n",
      "       'season_WINTER', 'mnth_APR', 'mnth_AUG', 'mnth_DEZ', 'mnth_FEB',\n",
      "       'mnth_JUL', 'mnth_JUN', 'mnth_MAR', 'mnth_MAY', 'mnth_NOV', 'mnth_OKT',\n",
      "       'mnth_SEP', 'weekday_FRI', 'weekday_SAT', 'weekday_SUN', 'weekday_THU',\n",
      "       'weekday_TUE', 'weekday_WED', 'weathersit_MISTY',\n",
      "       'weathersit_RAIN/SNOW/STORM'],\n",
      "      dtype='object')\n"
     ]
    }
   ],
   "source": [
    "# using VIF on the bike_rental dataset\n",
    "predictors_bike_rental = bike_rental_final.drop('cnt', axis=1)\n",
    "response_bike_rental = bike_rental_final['cnt']\n",
    "\n",
    "# this is a list of dummy variables that represent a categorical variable with three or more categories. They should not be removed even if it has a high VIF. \n",
    "list_var_not_to_remove = ['season_SUMMER', 'season_FALL', 'season_WINTER', 'mnth_APR', 'mnth_AUG', 'mnth_DEZ',\n",
    "       'mnth_FEB', 'mnth_JUL', 'mnth_JUN', 'mnth_MAR', 'mnth_MAY', 'mnth_NOV',\n",
    "       'mnth_OKT', 'mnth_SEP', 'weekday_FRI', 'weekday_SAT', 'weekday_SUN',\n",
    "       'weekday_THU', 'weekday_TUE', 'weekday_WED', 'weathersit_MISTY',\n",
    "       'weathersit_RAIN/SNOW/STORM']\n",
    "df_predictors_select_VIF = drop_column_using_vif_(predictors_bike_rental, list_var_not_to_remove, thresh=2.5)\n",
    "print(\"The columns remaining after VIF selection are:\")\n",
    "print(df_predictors_select_VIF.columns)"
   ]
  },
  {
   "cell_type": "markdown",
   "metadata": {},
   "source": [
    "## Linear regression\n",
    "\n",
    "Now we can fit a linear regression model after dealing with the multicolinearity, and we will do it using the sklearn package. \n",
    "\n",
    "Just like clustering analysis in `sklearn`, we will run the regression model using the `.fit()` function. Make sure you get the variables the right way around."
   ]
  },
  {
   "cell_type": "code",
   "execution_count": 11,
   "metadata": {},
   "outputs": [
    {
     "data": {
      "text/plain": [
       "LinearRegression()"
      ]
     },
     "execution_count": 11,
     "metadata": {},
     "output_type": "execute_result"
    }
   ],
   "source": [
    "from sklearn.linear_model import LinearRegression\n",
    "lr = LinearRegression()\n",
    "lr.fit(X=df_predictors_select_VIF, y=response_bike_rental)"
   ]
  },
  {
   "cell_type": "markdown",
   "metadata": {},
   "source": [
    "Now that we've created our fit, it's time to look at the structure of the model and how well it fits the data.\n",
    "\n",
    "There are a number of ways to do this. In the first instance, as with any linear regression model, we want to get a grip on the coefficients and intercept of the model. Helpfully, these two functions are built into the LinearRegression object. **Consult the documentation and see if you can find out how to extract these.**"
   ]
  },
  {
   "cell_type": "code",
   "execution_count": 12,
   "metadata": {},
   "outputs": [
    {
     "name": "stdout",
     "output_type": "stream",
     "text": [
      "Constant term:  -4254055.766951833\n",
      "                           var                                     coef\n",
      "0                           yr                               2,116.4839\n",
      "1                          hum                                  -6.7672\n",
      "2                    windspeed                                 -40.1674\n",
      "3                  season_FALL                               1,120.6563\n",
      "4                season_SUMMER                                 877.6332\n",
      "5                season_WINTER                               1,785.3621\n",
      "6                     mnth_APR                               1,514.6099\n",
      "7                     mnth_AUG                               2,206.0450\n",
      "8                     mnth_DEZ                                 139.5015\n",
      "9                     mnth_FEB                                 426.8130\n",
      "10                    mnth_JUL                               2,021.6108\n",
      "11                    mnth_JUN                               2,420.1333\n",
      "12                    mnth_MAR                               1,262.1342\n",
      "13                    mnth_MAY                               2,265.0846\n",
      "14                    mnth_NOV                                 221.8367\n",
      "15                    mnth_OKT                               1,375.7295\n",
      "16                    mnth_SEP                               2,341.0241\n",
      "17                 weekday_FRI                                 298.3976\n",
      "18                 weekday_SAT                                 273.3865\n",
      "19                 weekday_SUN                                -183.8554\n",
      "20                 weekday_THU                                 299.4629\n",
      "21                 weekday_TUE                                 209.4256\n",
      "22                 weekday_WED                                 275.6144\n",
      "23            weathersit_MISTY                                -620.4733\n",
      "24  weathersit_RAIN/SNOW/STORM                              -2,266.9761\n"
     ]
    }
   ],
   "source": [
    "print('Constant term: ', lr.intercept_)\n",
    "df_coef_lr_VIF = pd.DataFrame({\"var\": df_predictors_select_VIF.columns.values, \"coef\":lr.coef_})\n",
    "print(df_coef_lr_VIF)"
   ]
  },
  {
   "cell_type": "markdown",
   "metadata": {},
   "source": [
    "The code below will generate the R2 score for us. Run the code and see how well the model performed."
   ]
  },
  {
   "cell_type": "code",
   "execution_count": 13,
   "metadata": {},
   "outputs": [
    {
     "name": "stdout",
     "output_type": "stream",
     "text": [
      "R2:\n"
     ]
    },
    {
     "data": {
      "text/plain": [
       "0.8207833700022289"
      ]
     },
     "execution_count": 13,
     "metadata": {},
     "output_type": "execute_result"
    }
   ],
   "source": [
    "print('R2:')\n",
    "lr.score(X=df_predictors_select_VIF, y=response_bike_rental)"
   ]
  },
  {
   "cell_type": "markdown",
   "metadata": {},
   "source": [
    "It is not easy to get a comprehensive summary of the regression model using `sklearn` package. We recommend using the `statsmodel` package, which has a nice **summary()** function."
   ]
  },
  {
   "cell_type": "code",
   "execution_count": 14,
   "metadata": {},
   "outputs": [
    {
     "name": "stderr",
     "output_type": "stream",
     "text": [
      "/Users/minghanwang/opt/anaconda3/envs/sds2021/lib/python3.9/site-packages/statsmodels/tsa/tsatools.py:142: FutureWarning: In a future version of pandas all arguments of concat except for the argument 'objs' will be keyword-only\n",
      "  x = pd.concat(x[::order], 1)\n"
     ]
    },
    {
     "data": {
      "text/html": [
       "<table class=\"simpletable\">\n",
       "<caption>OLS Regression Results</caption>\n",
       "<tr>\n",
       "  <th>Dep. Variable:</th>           <td>cnt</td>       <th>  R-squared:         </th> <td>   0.821</td> \n",
       "</tr>\n",
       "<tr>\n",
       "  <th>Model:</th>                   <td>OLS</td>       <th>  Adj. R-squared:    </th> <td>   0.814</td> \n",
       "</tr>\n",
       "<tr>\n",
       "  <th>Method:</th>             <td>Least Squares</td>  <th>  F-statistic:       </th> <td>   129.2</td> \n",
       "</tr>\n",
       "<tr>\n",
       "  <th>Date:</th>             <td>Fri, 25 Feb 2022</td> <th>  Prob (F-statistic):</th> <td>1.19e-243</td>\n",
       "</tr>\n",
       "<tr>\n",
       "  <th>Time:</th>                 <td>13:55:15</td>     <th>  Log-Likelihood:    </th> <td> -5941.3</td> \n",
       "</tr>\n",
       "<tr>\n",
       "  <th>No. Observations:</th>      <td>   731</td>      <th>  AIC:               </th> <td>1.193e+04</td>\n",
       "</tr>\n",
       "<tr>\n",
       "  <th>Df Residuals:</th>          <td>   705</td>      <th>  BIC:               </th> <td>1.205e+04</td>\n",
       "</tr>\n",
       "<tr>\n",
       "  <th>Df Model:</th>              <td>    25</td>      <th>                     </th>     <td> </td>    \n",
       "</tr>\n",
       "<tr>\n",
       "  <th>Covariance Type:</th>      <td>nonrobust</td>    <th>                     </th>     <td> </td>    \n",
       "</tr>\n",
       "</table>\n",
       "<table class=\"simpletable\">\n",
       "<tr>\n",
       "               <td></td>                 <th>coef</th>     <th>std err</th>      <th>t</th>      <th>P>|t|</th>  <th>[0.025</th>    <th>0.975]</th>  \n",
       "</tr>\n",
       "<tr>\n",
       "  <th>const</th>                      <td>-4.254e+06</td> <td> 1.25e+05</td> <td>  -33.903</td> <td> 0.000</td> <td> -4.5e+06</td> <td>-4.01e+06</td>\n",
       "</tr>\n",
       "<tr>\n",
       "  <th>yr</th>                         <td> 2116.4839</td> <td>   62.368</td> <td>   33.935</td> <td> 0.000</td> <td> 1994.035</td> <td> 2238.933</td>\n",
       "</tr>\n",
       "<tr>\n",
       "  <th>hum</th>                        <td>   -6.7672</td> <td>    3.057</td> <td>   -2.214</td> <td> 0.027</td> <td>  -12.769</td> <td>   -0.765</td>\n",
       "</tr>\n",
       "<tr>\n",
       "  <th>windspeed</th>                  <td>  -40.1674</td> <td>    6.565</td> <td>   -6.118</td> <td> 0.000</td> <td>  -53.057</td> <td>  -27.278</td>\n",
       "</tr>\n",
       "<tr>\n",
       "  <th>season_FALL</th>                <td> 1120.6563</td> <td>  229.512</td> <td>    4.883</td> <td> 0.000</td> <td>  670.048</td> <td> 1571.264</td>\n",
       "</tr>\n",
       "<tr>\n",
       "  <th>season_SUMMER</th>              <td>  877.6332</td> <td>  194.657</td> <td>    4.509</td> <td> 0.000</td> <td>  495.456</td> <td> 1259.810</td>\n",
       "</tr>\n",
       "<tr>\n",
       "  <th>season_WINTER</th>              <td> 1785.3621</td> <td>  195.000</td> <td>    9.156</td> <td> 0.000</td> <td> 1402.512</td> <td> 2168.212</td>\n",
       "</tr>\n",
       "<tr>\n",
       "  <th>mnth_APR</th>                   <td> 1514.6099</td> <td>  247.055</td> <td>    6.131</td> <td> 0.000</td> <td> 1029.559</td> <td> 1999.661</td>\n",
       "</tr>\n",
       "<tr>\n",
       "  <th>mnth_AUG</th>                   <td> 2206.0450</td> <td>  274.244</td> <td>    8.044</td> <td> 0.000</td> <td> 1667.613</td> <td> 2744.477</td>\n",
       "</tr>\n",
       "<tr>\n",
       "  <th>mnth_DEZ</th>                   <td>  139.5015</td> <td>  195.979</td> <td>    0.712</td> <td> 0.477</td> <td> -245.272</td> <td>  524.275</td>\n",
       "</tr>\n",
       "<tr>\n",
       "  <th>mnth_FEB</th>                   <td>  426.8130</td> <td>  153.283</td> <td>    2.784</td> <td> 0.006</td> <td>  125.867</td> <td>  727.759</td>\n",
       "</tr>\n",
       "<tr>\n",
       "  <th>mnth_JUL</th>                   <td> 2021.6108</td> <td>  274.341</td> <td>    7.369</td> <td> 0.000</td> <td> 1482.987</td> <td> 2560.234</td>\n",
       "</tr>\n",
       "<tr>\n",
       "  <th>mnth_JUN</th>                   <td> 2420.1333</td> <td>  238.866</td> <td>   10.132</td> <td> 0.000</td> <td> 1951.160</td> <td> 2889.107</td>\n",
       "</tr>\n",
       "<tr>\n",
       "  <th>mnth_MAR</th>                   <td> 1262.1342</td> <td>  165.307</td> <td>    7.635</td> <td> 0.000</td> <td>  937.581</td> <td> 1586.688</td>\n",
       "</tr>\n",
       "<tr>\n",
       "  <th>mnth_MAY</th>                   <td> 2265.0846</td> <td>  246.320</td> <td>    9.196</td> <td> 0.000</td> <td> 1781.476</td> <td> 2748.693</td>\n",
       "</tr>\n",
       "<tr>\n",
       "  <th>mnth_NOV</th>                   <td>  221.8367</td> <td>  246.601</td> <td>    0.900</td> <td> 0.369</td> <td> -262.323</td> <td>  705.997</td>\n",
       "</tr>\n",
       "<tr>\n",
       "  <th>mnth_OKT</th>                   <td> 1375.7295</td> <td>  246.360</td> <td>    5.584</td> <td> 0.000</td> <td>  892.042</td> <td> 1859.417</td>\n",
       "</tr>\n",
       "<tr>\n",
       "  <th>mnth_SEP</th>                   <td> 2341.0241</td> <td>  252.529</td> <td>    9.270</td> <td> 0.000</td> <td> 1845.225</td> <td> 2836.823</td>\n",
       "</tr>\n",
       "<tr>\n",
       "  <th>weekday_FRI</th>                <td>  298.3976</td> <td>  115.894</td> <td>    2.575</td> <td> 0.010</td> <td>   70.859</td> <td>  525.937</td>\n",
       "</tr>\n",
       "<tr>\n",
       "  <th>weekday_SAT</th>                <td>  273.3865</td> <td>  115.409</td> <td>    2.369</td> <td> 0.018</td> <td>   46.799</td> <td>  499.974</td>\n",
       "</tr>\n",
       "<tr>\n",
       "  <th>weekday_SUN</th>                <td> -183.8554</td> <td>  115.331</td> <td>   -1.594</td> <td> 0.111</td> <td> -410.289</td> <td>   42.578</td>\n",
       "</tr>\n",
       "<tr>\n",
       "  <th>weekday_THU</th>                <td>  299.4629</td> <td>  115.885</td> <td>    2.584</td> <td> 0.010</td> <td>   71.942</td> <td>  526.983</td>\n",
       "</tr>\n",
       "<tr>\n",
       "  <th>weekday_TUE</th>                <td>  209.4256</td> <td>  115.591</td> <td>    1.812</td> <td> 0.070</td> <td>  -17.519</td> <td>  436.370</td>\n",
       "</tr>\n",
       "<tr>\n",
       "  <th>weekday_WED</th>                <td>  275.6144</td> <td>  115.913</td> <td>    2.378</td> <td> 0.018</td> <td>   48.038</td> <td>  503.191</td>\n",
       "</tr>\n",
       "<tr>\n",
       "  <th>weathersit_MISTY</th>           <td> -620.4733</td> <td>   82.047</td> <td>   -7.562</td> <td> 0.000</td> <td> -781.560</td> <td> -459.387</td>\n",
       "</tr>\n",
       "<tr>\n",
       "  <th>weathersit_RAIN/SNOW/STORM</th> <td>-2266.9761</td> <td>  211.046</td> <td>  -10.742</td> <td> 0.000</td> <td>-2681.330</td> <td>-1852.622</td>\n",
       "</tr>\n",
       "</table>\n",
       "<table class=\"simpletable\">\n",
       "<tr>\n",
       "  <th>Omnibus:</th>       <td>123.461</td> <th>  Durbin-Watson:     </th> <td>   1.189</td>\n",
       "</tr>\n",
       "<tr>\n",
       "  <th>Prob(Omnibus):</th> <td> 0.000</td>  <th>  Jarque-Bera (JB):  </th> <td> 423.049</td>\n",
       "</tr>\n",
       "<tr>\n",
       "  <th>Skew:</th>          <td>-0.779</td>  <th>  Prob(JB):          </th> <td>1.37e-92</td>\n",
       "</tr>\n",
       "<tr>\n",
       "  <th>Kurtosis:</th>      <td> 6.385</td>  <th>  Cond. No.          </th> <td>8.18e+06</td>\n",
       "</tr>\n",
       "</table><br/><br/>Notes:<br/>[1] Standard Errors assume that the covariance matrix of the errors is correctly specified.<br/>[2] The condition number is large, 8.18e+06. This might indicate that there are<br/>strong multicollinearity or other numerical problems."
      ],
      "text/plain": [
       "<class 'statsmodels.iolib.summary.Summary'>\n",
       "\"\"\"\n",
       "                            OLS Regression Results                            \n",
       "==============================================================================\n",
       "Dep. Variable:                    cnt   R-squared:                       0.821\n",
       "Model:                            OLS   Adj. R-squared:                  0.814\n",
       "Method:                 Least Squares   F-statistic:                     129.2\n",
       "Date:                Fri, 25 Feb 2022   Prob (F-statistic):          1.19e-243\n",
       "Time:                        13:55:15   Log-Likelihood:                -5941.3\n",
       "No. Observations:                 731   AIC:                         1.193e+04\n",
       "Df Residuals:                     705   BIC:                         1.205e+04\n",
       "Df Model:                          25                                         \n",
       "Covariance Type:            nonrobust                                         \n",
       "==============================================================================================\n",
       "                                 coef    std err          t      P>|t|      [0.025      0.975]\n",
       "----------------------------------------------------------------------------------------------\n",
       "const                      -4.254e+06   1.25e+05    -33.903      0.000    -4.5e+06   -4.01e+06\n",
       "yr                          2116.4839     62.368     33.935      0.000    1994.035    2238.933\n",
       "hum                           -6.7672      3.057     -2.214      0.027     -12.769      -0.765\n",
       "windspeed                    -40.1674      6.565     -6.118      0.000     -53.057     -27.278\n",
       "season_FALL                 1120.6563    229.512      4.883      0.000     670.048    1571.264\n",
       "season_SUMMER                877.6332    194.657      4.509      0.000     495.456    1259.810\n",
       "season_WINTER               1785.3621    195.000      9.156      0.000    1402.512    2168.212\n",
       "mnth_APR                    1514.6099    247.055      6.131      0.000    1029.559    1999.661\n",
       "mnth_AUG                    2206.0450    274.244      8.044      0.000    1667.613    2744.477\n",
       "mnth_DEZ                     139.5015    195.979      0.712      0.477    -245.272     524.275\n",
       "mnth_FEB                     426.8130    153.283      2.784      0.006     125.867     727.759\n",
       "mnth_JUL                    2021.6108    274.341      7.369      0.000    1482.987    2560.234\n",
       "mnth_JUN                    2420.1333    238.866     10.132      0.000    1951.160    2889.107\n",
       "mnth_MAR                    1262.1342    165.307      7.635      0.000     937.581    1586.688\n",
       "mnth_MAY                    2265.0846    246.320      9.196      0.000    1781.476    2748.693\n",
       "mnth_NOV                     221.8367    246.601      0.900      0.369    -262.323     705.997\n",
       "mnth_OKT                    1375.7295    246.360      5.584      0.000     892.042    1859.417\n",
       "mnth_SEP                    2341.0241    252.529      9.270      0.000    1845.225    2836.823\n",
       "weekday_FRI                  298.3976    115.894      2.575      0.010      70.859     525.937\n",
       "weekday_SAT                  273.3865    115.409      2.369      0.018      46.799     499.974\n",
       "weekday_SUN                 -183.8554    115.331     -1.594      0.111    -410.289      42.578\n",
       "weekday_THU                  299.4629    115.885      2.584      0.010      71.942     526.983\n",
       "weekday_TUE                  209.4256    115.591      1.812      0.070     -17.519     436.370\n",
       "weekday_WED                  275.6144    115.913      2.378      0.018      48.038     503.191\n",
       "weathersit_MISTY            -620.4733     82.047     -7.562      0.000    -781.560    -459.387\n",
       "weathersit_RAIN/SNOW/STORM -2266.9761    211.046    -10.742      0.000   -2681.330   -1852.622\n",
       "==============================================================================\n",
       "Omnibus:                      123.461   Durbin-Watson:                   1.189\n",
       "Prob(Omnibus):                  0.000   Jarque-Bera (JB):              423.049\n",
       "Skew:                          -0.779   Prob(JB):                     1.37e-92\n",
       "Kurtosis:                       6.385   Cond. No.                     8.18e+06\n",
       "==============================================================================\n",
       "\n",
       "Notes:\n",
       "[1] Standard Errors assume that the covariance matrix of the errors is correctly specified.\n",
       "[2] The condition number is large, 8.18e+06. This might indicate that there are\n",
       "strong multicollinearity or other numerical problems.\n",
       "\"\"\""
      ]
     },
     "execution_count": 14,
     "metadata": {},
     "output_type": "execute_result"
    }
   ],
   "source": [
    "# fit a lineare regression model using statsmodel\n",
    "regressor_OLS = sm.OLS(endog=response_bike_rental, exog=sm.add_constant(df_predictors_select_VIF)).fit()\n",
    "regressor_OLS.summary()"
   ]
  },
  {
   "cell_type": "markdown",
   "metadata": {},
   "source": [
    "We can see that the R2 value of 0.82 is quite high, which means that 82% of the variance in the daily bike rental can be explained by the predictors used.\n",
    "\n",
    "The next step is interpreting this model. Regarding the humnidity, an increase of the humidity by 1% decreases the predicted bike rental count by 6.7672, when all other variables remain fixed. In terms of seasons, when it is fall, the predicted number of bike rental is 1120.6 higher compared to the spring season, when all other variables remain fixed. (So people like travelling by bicycle in fall more than in spring?)\n",
    "\n",
    "As a practice, can you interpret the other variables in this model?"
   ]
  },
  {
   "cell_type": "markdown",
   "metadata": {},
   "source": [
    "## Lasso"
   ]
  },
  {
   "cell_type": "markdown",
   "metadata": {},
   "source": [
    "The full name of Lasso is **least absolute shrinkage and selection operator**. It is a regression method that performs both variable selection and regularisation (or penalty) in order to increase the prediction accuracy and interpretability of the regression model.\n",
    "\n",
    "In Lasso, the lambda (or alpha) parameter controls the strength of regularisation. If alpha=0, it is equivalent to an ordinary least square. In the Lasso function provided by `sklearn`, the alpha value defaults to 1.0.\n",
    "\n",
    "Please note that Lasso requires predictors to be normalised. This can be done using this function by setting `normalize=True`. Here, normalisation means subtracting the mean and dividing by the standard deviation."
   ]
  },
  {
   "cell_type": "code",
   "execution_count": 15,
   "metadata": {},
   "outputs": [
    {
     "data": {
      "text/plain": [
       "Lasso(max_iter=100000000.0, normalize=True)"
      ]
     },
     "execution_count": 15,
     "metadata": {},
     "output_type": "execute_result"
    }
   ],
   "source": [
    "from sklearn import linear_model\n",
    "# increase the max_iter to guarantee convergence\n",
    "lasso_model = linear_model.Lasso(max_iter=10e7, normalize=True)\n",
    "lasso_model.fit(X=predictors_bike_rental, y=response_bike_rental)"
   ]
  },
  {
   "cell_type": "code",
   "execution_count": 16,
   "metadata": {},
   "outputs": [
    {
     "data": {
      "text/plain": [
       "0.83900915402361"
      ]
     },
     "execution_count": 16,
     "metadata": {},
     "output_type": "execute_result"
    }
   ],
   "source": [
    "lasso_model.score(X=predictors_bike_rental, y=response_bike_rental)"
   ]
  },
  {
   "cell_type": "markdown",
   "metadata": {},
   "source": [
    "It looks like the Lasso model has done a great job in fitting the relationship between the response and predictors.\n",
    "\n",
    "We can check out the coefficients using the following code."
   ]
  },
  {
   "cell_type": "code",
   "execution_count": 17,
   "metadata": {},
   "outputs": [
    {
     "name": "stdout",
     "output_type": "stream",
     "text": [
      "                           var                                     coef\n",
      "0                           yr                               1,550.8523\n",
      "1                         temp                                 114.9116\n",
      "2                          hum                                 -14.7020\n",
      "3                    windspeed                                 -39.9598\n",
      "4              days_since_2011                                   1.1011\n",
      "5                  season_FALL                                 263.0961\n",
      "6                season_SUMMER                                 772.3289\n",
      "7                season_WINTER                                 924.7247\n",
      "8                     mnth_APR                                   0.0000\n",
      "9                     mnth_AUG                                  53.3674\n",
      "10                    mnth_DEZ                                -210.0024\n",
      "11                    mnth_FEB                                 -39.0702\n",
      "12                    mnth_JUL                                -166.1958\n",
      "13                    mnth_JUN                                   0.0000\n",
      "14                    mnth_MAR                                 105.6977\n",
      "15                    mnth_MAY                                 109.2526\n",
      "16                    mnth_NOV                                  -0.0000\n",
      "17                    mnth_OKT                                 360.8347\n",
      "18                    mnth_SEP                                 686.1460\n",
      "19             holiday_HOLIDAY                                -605.7810\n",
      "20                 weekday_FRI                                  29.0109\n",
      "21                 weekday_SAT                                  42.4702\n",
      "22                 weekday_SUN                                -254.0719\n",
      "23                 weekday_THU                                   0.0000\n",
      "24                 weekday_TUE                                  -0.0000\n",
      "25                 weekday_WED                                   0.0000\n",
      "26   workingday_NO WORKING DAY                                  -0.0000\n",
      "27            weathersit_MISTY                                -388.0845\n",
      "28  weathersit_RAIN/SNOW/STORM                              -1,792.0393\n"
     ]
    }
   ],
   "source": [
    "# print(lasso_model.coef_)\n",
    "df_coef_lasso = pd.DataFrame({\"var\": predictors_bike_rental.columns.values, \"coef\":lasso_model.coef_})\n",
    "print(df_coef_lasso)"
   ]
  },
  {
   "cell_type": "markdown",
   "metadata": {},
   "source": [
    "We can apply the Lasso regression with a range of lambda parameters, and see how the coefficients change with the lambda value. The plot is called `LASSO Path`."
   ]
  },
  {
   "cell_type": "code",
   "execution_count": 18,
   "metadata": {},
   "outputs": [
    {
     "data": {
      "text/plain": [
       "(-1.25, 4.25, -617.3125241650863, 1241.775682199707)"
      ]
     },
     "execution_count": 18,
     "metadata": {},
     "output_type": "execute_result"
    },
    {
     "data": {
      "image/png": "[encoded data removed]",
      "text/plain": [
       "<Figure size 432x288 with 1 Axes>"
      ]
     },
     "metadata": {
      "needs_background": "light"
     },
     "output_type": "display_data"
    }
   ],
   "source": [
    "from itertools import cycle\n",
    "from sklearn.linear_model import lasso_path\n",
    "\n",
    "predictors_bike_rental_standardised = predictors_bike_rental/predictors_bike_rental.std(axis=0)\n",
    "\n",
    "# alphas_lasso, coefs_lasso, _ = lasso_path(predictors_bike_rental, response_bike_rental, alphas = [.1, .5, 1, 10, 100], fit_intercept=False)\n",
    "alphas_lasso, coefs_lasso, _ = lasso_path(predictors_bike_rental_standardised, response_bike_rental.values.reshape(-1),alphas = [.1, .5, 1, 10, 100, 1000, 10000], fit_intercept=False)\n",
    "# print(alphas_lasso.shape)\n",
    "# print(coefs_lasso.shape)\n",
    "\n",
    "log_alphas_lasso = np.log10(alphas_lasso)\n",
    "for coef_l in coefs_lasso:\n",
    "    l1 = plt.plot(log_alphas_lasso, coef_l)\n",
    "\n",
    "plt.xlabel('Log(alpha)')\n",
    "plt.ylabel('coefficients')\n",
    "plt.title('Lasso Path')\n",
    "plt.axis('tight')"
   ]
  },
  {
   "cell_type": "markdown",
   "metadata": {},
   "source": [
    "If you are interested in how to select the optimal lambda value, [this link](https://scikit-learn.org/stable/auto_examples/linear_model/plot_lasso_model_selection.html#sphx-glr-auto-examples-linear-model-plot-lasso-model-selection-py) would be very useful."
   ]
  },
  {
   "cell_type": "markdown",
   "metadata": {},
   "source": [
    "## Regression Tree"
   ]
  },
  {
   "cell_type": "markdown",
   "metadata": {},
   "source": [
    "In this section, we will use a regression tree for this dataset. Although there are several parameters in this model such as **max_depth** (corresponding to the height of a tree), but in a first attempt we just use the default values."
   ]
  },
  {
   "cell_type": "code",
   "execution_count": 19,
   "metadata": {},
   "outputs": [
    {
     "data": {
      "text/plain": [
       "DecisionTreeRegressor(random_state=0)"
      ]
     },
     "execution_count": 19,
     "metadata": {},
     "output_type": "execute_result"
    }
   ],
   "source": [
    "from sklearn.tree import DecisionTreeRegressor\n",
    "reg_tree = DecisionTreeRegressor(random_state=0)\n",
    "# if you don't remember the meaning of random_state, check out the lastest clustering workshop on Moodle\n",
    "reg_tree.fit(predictors_bike_rental, response_bike_rental)"
   ]
  },
  {
   "cell_type": "markdown",
   "metadata": {},
   "source": [
    "Just like the previous regressors, you can check the R2 score using the `score()` function."
   ]
  },
  {
   "cell_type": "code",
   "execution_count": 20,
   "metadata": {},
   "outputs": [
    {
     "data": {
      "text/plain": [
       "1.0"
      ]
     },
     "execution_count": 20,
     "metadata": {},
     "output_type": "execute_result"
    }
   ],
   "source": [
    "reg_tree.score(X=predictors_bike_rental, y=response_bike_rental)"
   ]
  },
  {
   "cell_type": "markdown",
   "metadata": {},
   "source": [
    "It looks like the fitting is perfect with a R2 score of 1. But don't get carried away. Probably the model has **overfitted**. This means that the model fits perfectly on the **given** dataset at the cost of doing badly on the **unseen** dataset. We will talk about this issue in later lectures and workshops."
   ]
  },
  {
   "cell_type": "markdown",
   "metadata": {},
   "source": [
    "## Random Forest"
   ]
  },
  {
   "cell_type": "markdown",
   "metadata": {},
   "source": [
    "In this section, we will use the random forest method for this dataset."
   ]
  },
  {
   "cell_type": "code",
   "execution_count": 21,
   "metadata": {},
   "outputs": [
    {
     "data": {
      "text/plain": [
       "RandomForestRegressor(random_state=0)"
      ]
     },
     "execution_count": 21,
     "metadata": {},
     "output_type": "execute_result"
    }
   ],
   "source": [
    "from sklearn.ensemble import RandomForestRegressor\n",
    "reg_random_forest = RandomForestRegressor(random_state=0)\n",
    "reg_random_forest.fit(predictors_bike_rental, response_bike_rental.values.reshape(-1))"
   ]
  },
  {
   "cell_type": "markdown",
   "metadata": {},
   "source": [
    "We can check the R2 score of this model."
   ]
  },
  {
   "cell_type": "code",
   "execution_count": 22,
   "metadata": {},
   "outputs": [
    {
     "data": {
      "text/plain": [
       "0.9834835122944702"
      ]
     },
     "execution_count": 22,
     "metadata": {},
     "output_type": "execute_result"
    }
   ],
   "source": [
    "reg_random_forest.score(X=predictors_bike_rental, y=response_bike_rental)"
   ]
  },
  {
   "cell_type": "markdown",
   "metadata": {},
   "source": [
    "Again, we have got a very good R2 score. We need to look into the overfitting issue, but this is not the topic in this workshop."
   ]
  },
  {
   "cell_type": "markdown",
   "metadata": {},
   "source": [
    "## To be continued"
   ]
  },
  {
   "cell_type": "markdown",
   "metadata": {},
   "source": [
    "Well done for completing this workshop on regression. You will now have a stronger understanding of how to use a range of regression methods to gain insights into your datasets.\n",
    "\n",
    "If you have time and/or interest in exploring these methods further, then you might wan to try one or more of these activities:\n",
    "\n",
    "0. We have not done a lot to interpret the models. If you have time and energy, here is a handy book on interpretation of statistics and machine learning models. For linear regression, please read this [this chapter](https://christophm.github.io/interpretable-ml-book/limo.html). For decision trees, have a look at [this chapter](https://christophm.github.io/interpretable-ml-book/tree.html). If you want to interpret a random forest, you can try the **permutation feature importance** method, which is introduced in [this chapter](https://christophm.github.io/interpretable-ml-book/feature-importance.html).\n",
    "1. We committed a methodological sin in reusing the same dataset for model fitting and validation (calculting the goodness-of-fit). There are ways around this problem, either by using another dataset, or by splitting the dataset into parts for *cross-validation*. Look at the documentation on cross-validation [here](ttp://scikit-learn.org/stable/modules/cross_validation.html)and then implement a simple technique to avoid this problem.\n",
    "2. There are lots of nice datasets for analysis on [UCI Machine Learning Repository](https://archive.ics.uci.edu/ml/datasets.html) and [Kaggle](https://www.kaggle.com/datasets). Take a look, and if any of them take your fancy try create a regression model. Which data features are important? Which are not? "
   ]
  },
  {
   "cell_type": "markdown",
   "metadata": {},
   "source": [
    "## Credits!\n",
    "\n",
    "### Acknowledgements\n",
    "\n",
    "This workshop is partially based on a [chapter](https://christophm.github.io/interpretable-ml-book/limo.html) of the [book](https://christophm.github.io/interpretable-ml-book/) by Christoph Molnar. "
   ]
  }
 ],
 "metadata": {
  "interpreter": {
   "hash": "99dd0676c8b620773624df38c062999a30eb7115248aa0fc22384b317486166c"
  },
  "kernelspec": {
   "display_name": "Python 3 (ipykernel)",
   "language": "python",
   "name": "python3"
  },
  "language_info": {
   "codemirror_mode": {
    "name": "ipython",
    "version": 3
   },
   "file_extension": ".py",
   "mimetype": "text/x-python",
   "name": "python",
   "nbconvert_exporter": "python",
   "pygments_lexer": "ipython3",
   "version": "3.9.6"
  },
  "toc": {
   "base_numbering": 1,
   "nav_menu": {},
   "number_sections": true,
   "sideBar": true,
   "skip_h1_title": false,
   "title_cell": "Table of Contents",
   "title_sidebar": "Contents",
   "toc_cell": false,
   "toc_position": {},
   "toc_section_display": true,
   "toc_window_display": true
  }
 },
 "nbformat": 4,
 "nbformat_minor": 4
}
